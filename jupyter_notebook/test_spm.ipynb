{
 "cells": [
  {
   "cell_type": "code",
   "execution_count": null,
   "metadata": {
    "collapsed": false
   },
   "outputs": [],
   "source": [
    "%matplotlib inline\n",
    "%cd ../"
   ]
  },
  {
   "cell_type": "code",
   "execution_count": null,
   "metadata": {
    "collapsed": true
   },
   "outputs": [],
   "source": [
    "from pprint import pprint\n",
    "import os\n",
    "from os import path as ospath\n",
    "from functools import reduce\n",
    "\n",
    "import matplotlib.pyplot as plt\n",
    "import numpy as np\n",
    "\n",
    "from cvtools import io\n",
    "from cvtools import spm"
   ]
  },
  {
   "cell_type": "code",
   "execution_count": null,
   "metadata": {
    "collapsed": true
   },
   "outputs": [],
   "source": [
    "train_data_path = 'dataset_full/training'\n",
    "test_data_path = 'dataset_full/testing'\n",
    "save_data_dir = 'data'"
   ]
  },
  {
   "cell_type": "code",
   "execution_count": null,
   "metadata": {
    "collapsed": false
   },
   "outputs": [],
   "source": [
    "# 导入训练数据数据\n",
    "train_data = tuple(io.get_images_name(train_data_path,recursive=True))\n",
    "train_images = io.load_image2ndarray(train_data)\n",
    "train_labels = io.get_image_label_in_filename(train_data)"
   ]
  },
  {
   "cell_type": "code",
   "execution_count": null,
   "metadata": {
    "collapsed": false
   },
   "outputs": [],
   "source": [
    "path_prefix = save_data_dir\n",
    "filename_fmt = 'spm_%s_%d.pkl'# 第一个是使用的核函数，第二个是训练集大小\n",
    "# 导入或构造SPM模型\n",
    "def get_spm_model(svm_kernel,filename = 'spm.pkl'):\n",
    "    spm_model_path = ospath.join(path_prefix,filename)\n",
    "    spm_model = None\n",
    "    if ospath.exists(spm_model_path):\n",
    "        print(\"SPM Model of %s is existed,loading ...\"  % (svm_kernel,))\n",
    "        spm_model = io.load_data(path_prefix=path_prefix, filename=filename)\n",
    "        print(\"loading done!\")\n",
    "    else:\n",
    "        print(\"Training SPM Model of %s ....\" % (svm_kernel,))\n",
    "        spm_model = spm.SpatialPyramidMatch(train_images,train_labels,svm_kernel=svm_kernel) \n",
    "        spm_model_path = io.save_data(spm_model, path_prefix=path_prefix, filename=filename)\n",
    "        print(\"SPM Model Save Path:\",spm_model_path)\n",
    "    return spm_model"
   ]
  },
  {
   "cell_type": "code",
   "execution_count": null,
   "metadata": {
    "collapsed": true
   },
   "outputs": [],
   "source": [
    "# 性能评估方法\n",
    "def classification(spm_model,test_data,test_images,test_labels,show_all=False):\n",
    "    answer = spm_model.predict_images(test_images)\n",
    "    output_labels = [ spm_model.get_label(ans) for ans in answer ]\n",
    "    correct = len(tuple(filter(lambda x:x[0]==x[1],zip(test_labels,output_labels))))\n",
    "    accuracy = correct / len(test_labels)\n",
    "    print(\"Kernel: %12s\\taccuracy:%.2f%%(%d/%d)\" % (spm_model.svm_kernel,accuracy*100,correct,len(test_labels)))\n",
    "    if show_all:\n",
    "        for path,target,output in zip(test_data,test_labels,output_labels):\n",
    "            if target != output:\n",
    "                print(test_data,test_labels,output_labels)"
   ]
  },
  {
   "cell_type": "code",
   "execution_count": null,
   "metadata": {
    "collapsed": false
   },
   "outputs": [],
   "source": [
    "# 使用不同的核函数构造模型\n",
    "spm_models = {}\n",
    "svm_kernel = ('linear',)# 'poly','rbf','sigmoid','precomputed')\n",
    "train_data_size = len(train_images)\n",
    "for kernel in svm_kernel:\n",
    "    filename = filename_fmt % (kernel,train_data_size)\n",
    "    spm_models[kernel] = get_spm_model(kernel,filename)"
   ]
  },
  {
   "cell_type": "code",
   "execution_count": null,
   "metadata": {
    "collapsed": true
   },
   "outputs": [],
   "source": [
    "# 导入测试数据\n",
    "test_data = tuple(io.get_images_name(test_data_path,recursive=True))\n",
    "test_images = io.load_image2ndarray(test_data)\n",
    "test_labels = io.get_image_label_in_filename(test_data)"
   ]
  },
  {
   "cell_type": "code",
   "execution_count": null,
   "metadata": {
    "collapsed": false,
    "scrolled": false
   },
   "outputs": [],
   "source": [
    "# 测试\n",
    "print(\"testing ...\")\n",
    "for kernel,model in spm_models.items():\n",
    "    classification(model,test_data,test_images,test_labels,show_all=False)"
   ]
  }
 ],
 "metadata": {
  "kernelspec": {
   "display_name": "Python 3",
   "language": "python",
   "name": "python3"
  },
  "language_info": {
   "codemirror_mode": {
    "name": "ipython",
    "version": 3
   },
   "file_extension": ".py",
   "mimetype": "text/x-python",
   "name": "python",
   "nbconvert_exporter": "python",
   "pygments_lexer": "ipython3",
   "version": "3.6.0"
  }
 },
 "nbformat": 4,
 "nbformat_minor": 2
}

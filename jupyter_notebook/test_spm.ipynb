{
 "cells": [
  {
   "cell_type": "code",
   "execution_count": 1,
   "metadata": {
    "collapsed": false
   },
   "outputs": [
    {
     "name": "stdout",
     "output_type": "stream",
     "text": [
      "E:\\ProjectWorkplace\\SpatialPyramidMatchExp\n"
     ]
    }
   ],
   "source": [
    "%matplotlib inline\n",
    "%cd ../"
   ]
  },
  {
   "cell_type": "code",
   "execution_count": 2,
   "metadata": {
    "collapsed": false,
    "scrolled": true
   },
   "outputs": [],
   "source": [
    "from pprint import pprint\n",
    "import os\n",
    "from os import path as ospath\n",
    "from functools import reduce\n",
    "\n",
    "import matplotlib.pyplot as plt\n",
    "import numpy as np\n",
    "\n",
    "from cvtools import io\n",
    "from cvtools import spm"
   ]
  },
  {
   "cell_type": "code",
   "execution_count": 3,
   "metadata": {
    "collapsed": true
   },
   "outputs": [],
   "source": [
    "train_data_path = 'dataset/training'\n",
    "test_data_path = 'dataset/testing'\n",
    "save_data_dir = 'data'"
   ]
  },
  {
   "cell_type": "code",
   "execution_count": 4,
   "metadata": {
    "collapsed": false
   },
   "outputs": [],
   "source": [
    "# 导入训练数据数据\n",
    "train_data = tuple(io.get_images_name(train_data_path,recursive=True))\n",
    "train_images = io.load_image2ndarray(train_data)\n",
    "train_labels = io.get_image_label_in_filename(train_data)"
   ]
  },
  {
   "cell_type": "code",
   "execution_count": 5,
   "metadata": {
    "collapsed": false
   },
   "outputs": [],
   "source": [
    "path_prefix = save_data_dir\n",
    "filename_fmt = 'spm_%s_%d.pkl'# 第一个是使用的核函数，第二个是训练集大小\n",
    "# 导入或构造SPM模型\n",
    "def get_spm_model(svm_kernel,filename = 'spm.pkl'):\n",
    "    spm_model_path = ospath.join(path_prefix,filename)\n",
    "    spm_model = None\n",
    "    if ospath.exists(spm_model_path):\n",
    "        print(\"SPM Model of %s is existed,loading ...\"  % (svm_kernel,))\n",
    "        spm_model = io.load_data(path_prefix=path_prefix, filename=filename)\n",
    "        print(\"loading done!\")\n",
    "    else:\n",
    "        print(\"Training SPM Model of %s ....\" % (svm_kernel,))\n",
    "        spm_model = spm.SpatialPyramidMatch(train_images,train_labels,svm_kernel=svm_kernel,show_msg=True) \n",
    "        spm_model_path = io.save_data(spm_model, path_prefix=path_prefix, filename=filename)\n",
    "        print(\"SPM Model Save Path:\",spm_model_path)\n",
    "    return spm_model"
   ]
  },
  {
   "cell_type": "code",
   "execution_count": 6,
   "metadata": {
    "collapsed": true
   },
   "outputs": [],
   "source": [
    "# 性能评估方法\n",
    "def classification(spm_model,test_data,test_images,test_labels,show_all=False):\n",
    "    answer = spm_model.predict_images(test_images)\n",
    "    output_labels = [ spm_model.get_label(ans) for ans in answer ]\n",
    "    correct = len(tuple(filter(lambda x:x[0]==x[1],zip(test_labels,output_labels))))\n",
    "    accuracy = correct / len(test_labels)\n",
    "    print(\"Kernel: %12s\\taccuracy:%.2f%%(%d/%d)\" % (spm_model.svm_kernel,accuracy*100,correct,len(test_labels)))\n",
    "    if show_all:\n",
    "        for path,target,output in zip(test_data,test_labels,output_labels):\n",
    "            if target != output:\n",
    "                print(test_data,test_labels,output_labels)"
   ]
  },
  {
   "cell_type": "code",
   "execution_count": 7,
   "metadata": {
    "collapsed": false
   },
   "outputs": [
    {
     "name": "stdout",
     "output_type": "stream",
     "text": [
      "Training SPM Model of linear ....\n",
      "calculate sift is running ...\n",
      "generate vocabulary dictionary is running ...\n",
      "init label set and label list is running ...\n",
      "build pyramid is running ...\n",
      "train classificator is running ...\n",
      "SPM Model Save Path: data\\spm_linear_60.pkl\n",
      "Wall time: 2min 37s\n",
      "Training SPM Model of poly ....\n",
      "calculate sift is running ...\n",
      "generate vocabulary dictionary is running ...\n",
      "init label set and label list is running ...\n",
      "build pyramid is running ...\n",
      "train classificator is running ...\n",
      "SPM Model Save Path: data\\spm_poly_60.pkl\n",
      "Wall time: 2min 23s\n"
     ]
    }
   ],
   "source": [
    "# 使用不同的核函数构造模型\n",
    "spm_models = {}\n",
    "svm_kernel = ('linear','poly',) #'rbf','sigmoid','precomputed')\n",
    "train_data_size = len(train_images)\n",
    "def run_and_get_time(kernel,train_data_size):\n",
    "    spm_models[kernel] = get_spm_model(kernel,filename)\n",
    "    \n",
    "for kernel in svm_kernel:\n",
    "    filename = filename_fmt % (kernel,train_data_size)\n",
    "    %time run_and_get_time(kernel,train_data_size)"
   ]
  },
  {
   "cell_type": "code",
   "execution_count": 8,
   "metadata": {
    "collapsed": true
   },
   "outputs": [],
   "source": [
    "# 导入测试数据\n",
    "test_data = tuple(io.get_images_name(test_data_path,recursive=True))\n",
    "test_images = io.load_image2ndarray(test_data)\n",
    "test_labels = io.get_image_label_in_filename(test_data)"
   ]
  },
  {
   "cell_type": "code",
   "execution_count": 9,
   "metadata": {
    "collapsed": false,
    "scrolled": false
   },
   "outputs": [
    {
     "name": "stdout",
     "output_type": "stream",
     "text": [
      "testing ...\n",
      "Kernel:       linear\taccuracy:38.33%(46/120)\n",
      "Wall time: 10.5 s\n",
      "Kernel:         poly\taccuracy:22.50%(27/120)\n",
      "Wall time: 8.59 s\n"
     ]
    }
   ],
   "source": [
    "# 测试\n",
    "print(\"testing ...\")\n",
    "for kernel,model in spm_models.items():\n",
    "    %time classification(model,test_data,test_images,test_labels,show_all=False)"
   ]
  },
  {
   "cell_type": "markdown",
   "metadata": {},
   "source": [
    "1. 将聚类的个数设置为200后聚类的速度好像快了，而且精度也稍微高了一点，但是还是非常低。\n",
    "2. 目前训练分类器的步骤并没有完全按照别人的方法进行，可能需要按照别人的方法试一下。"
   ]
  }
 ],
 "metadata": {
  "kernelspec": {
   "display_name": "Python 3",
   "language": "python",
   "name": "python3"
  },
  "language_info": {
   "codemirror_mode": {
    "name": "ipython",
    "version": 3
   },
   "file_extension": ".py",
   "mimetype": "text/x-python",
   "name": "python",
   "nbconvert_exporter": "python",
   "pygments_lexer": "ipython3",
   "version": "3.6.0"
  }
 },
 "nbformat": 4,
 "nbformat_minor": 0
}

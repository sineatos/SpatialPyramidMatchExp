{
 "cells": [
  {
   "cell_type": "code",
   "execution_count": 1,
   "metadata": {
    "collapsed": false
   },
   "outputs": [
    {
     "name": "stdout",
     "output_type": "stream",
     "text": [
      "G:\\Workspace\\SpatialPyramidMatchExp\n"
     ]
    }
   ],
   "source": [
    "%matplotlib inline\n",
    "%cd ../"
   ]
  },
  {
   "cell_type": "code",
   "execution_count": 2,
   "metadata": {
    "collapsed": false,
    "scrolled": true
   },
   "outputs": [],
   "source": [
    "from pprint import pprint\n",
    "import os\n",
    "from os import path as ospath\n",
    "from functools import reduce\n",
    "\n",
    "import matplotlib.pyplot as plt\n",
    "import numpy as np\n",
    "\n",
    "from cvtools import io\n",
    "from cvtools import spm"
   ]
  },
  {
   "cell_type": "code",
   "execution_count": 3,
   "metadata": {
    "collapsed": true
   },
   "outputs": [],
   "source": [
    "train_data_path = 'dataset_full/training'\n",
    "test_data_path = 'dataset_full/testing'\n",
    "save_data_dir = 'data'"
   ]
  },
  {
   "cell_type": "code",
   "execution_count": 4,
   "metadata": {
    "collapsed": false
   },
   "outputs": [],
   "source": [
    "# 导入训练数据数据\n",
    "train_data = tuple(io.get_images_name(train_data_path,recursive=True))\n",
    "train_images = io.load_image2ndarray(train_data)\n",
    "train_labels = io.get_image_label_in_filename(train_data)"
   ]
  },
  {
   "cell_type": "code",
   "execution_count": 5,
   "metadata": {
    "collapsed": false
   },
   "outputs": [],
   "source": [
    "path_prefix = save_data_dir\n",
    "filename_fmt = 'spm_%s_%d_%d.pkl'# 第一个是使用的核函数，第二个是训练集大小,第三个是层数\n",
    "# 导入或构造SPM模型\n",
    "def get_spm_model(svm_kernel,filename = 'spm.pkl',level=2):\n",
    "    spm_model_path = ospath.join(path_prefix,filename)\n",
    "    spm_model = None\n",
    "    if ospath.exists(spm_model_path):\n",
    "        print(\"SPM Model of %s is existed,loading %s ...\"  % (svm_kernel,filename))\n",
    "        spm_model = io.load_data(path_prefix=path_prefix, filename=filename)\n",
    "        print(\"loading done!\")\n",
    "    else:\n",
    "        print(\"Training SPM Model of %s ....\" % (svm_kernel,))\n",
    "        spm_model = spm.SpatialPyramidMatch(train_images,train_labels,svm_kernel=svm_kernel,pyramid_level=level,show_msg=True) \n",
    "        spm_model_path = io.save_data(spm_model, path_prefix=path_prefix, filename=filename)\n",
    "        print(\"SPM Model Save Path:\",spm_model_path)\n",
    "    return spm_model"
   ]
  },
  {
   "cell_type": "code",
   "execution_count": 6,
   "metadata": {
    "collapsed": true
   },
   "outputs": [],
   "source": [
    "# 性能评估方法\n",
    "def classification(spm_model,test_data,test_images,test_labels,level,show_all=False):\n",
    "    answer = spm_model.predict_images(test_images)\n",
    "    output_labels = [ spm_model.get_label(ans) for ans in answer ]\n",
    "    correct = len(tuple(filter(lambda x:x[0]==x[1],zip(test_labels,output_labels))))\n",
    "    accuracy = correct / len(test_labels)\n",
    "    print(\"Kernel: %12s\\taccuracy:%.2f%%(%d/%d)\" % (spm_model.svm_kernel,accuracy*100,correct,len(test_labels)))\n",
    "    if show_all:\n",
    "        print(\"target\\t\\t\\t\\toutput\")\n",
    "        print(\"**************************************************************\")\n",
    "        for path,target,output in zip(test_data,test_labels,output_labels):\n",
    "            if target != output:\n",
    "                print(\"%s\\t\\t\\t\\t%s\" % (target,output))"
   ]
  },
  {
   "cell_type": "code",
   "execution_count": 7,
   "metadata": {
    "collapsed": false,
    "scrolled": false
   },
   "outputs": [
    {
     "name": "stdout",
     "output_type": "stream",
     "text": [
      "Training SPM Model of linear ....\n",
      "calculate sift is running ...\n",
      "generate vocabulary dictionary is running ...\n",
      "init label set and label list is running ...\n",
      "build pyramid is running ...\n",
      "train classificator is running ...\n",
      "SPM Model Save Path: data\\spm_linear_240_0.pkl\n",
      "Training SPM Model of poly ....\n",
      "calculate sift is running ...\n",
      "generate vocabulary dictionary is running ...\n",
      "init label set and label list is running ...\n",
      "build pyramid is running ...\n",
      "train classificator is running ...\n",
      "SPM Model Save Path: data\\spm_poly_240_0.pkl\n",
      "Training SPM Model of rbf ....\n",
      "calculate sift is running ...\n",
      "generate vocabulary dictionary is running ...\n",
      "init label set and label list is running ...\n",
      "build pyramid is running ...\n",
      "train classificator is running ...\n",
      "SPM Model Save Path: data\\spm_rbf_240_0.pkl\n",
      "Training SPM Model of sigmoid ....\n",
      "calculate sift is running ...\n",
      "generate vocabulary dictionary is running ...\n",
      "init label set and label list is running ...\n",
      "build pyramid is running ...\n",
      "train classificator is running ...\n",
      "SPM Model Save Path: data\\spm_sigmoid_240_0.pkl\n",
      "Training SPM Model of hi ....\n",
      "calculate sift is running ...\n",
      "generate vocabulary dictionary is running ...\n",
      "init label set and label list is running ...\n",
      "build pyramid is running ...\n",
      "train classificator is running ...\n",
      "SPM Model Save Path: data\\spm_hi_240_0.pkl\n",
      "Training SPM Model of linear ....\n",
      "calculate sift is running ...\n",
      "generate vocabulary dictionary is running ...\n",
      "init label set and label list is running ...\n",
      "build pyramid is running ...\n",
      "train classificator is running ...\n",
      "SPM Model Save Path: data\\spm_linear_240_1.pkl\n",
      "Training SPM Model of poly ....\n",
      "calculate sift is running ...\n",
      "generate vocabulary dictionary is running ...\n",
      "init label set and label list is running ...\n",
      "build pyramid is running ...\n",
      "train classificator is running ...\n",
      "SPM Model Save Path: data\\spm_poly_240_1.pkl\n",
      "Training SPM Model of rbf ....\n",
      "calculate sift is running ...\n",
      "generate vocabulary dictionary is running ...\n",
      "init label set and label list is running ...\n",
      "build pyramid is running ...\n",
      "train classificator is running ...\n",
      "SPM Model Save Path: data\\spm_rbf_240_1.pkl\n",
      "Training SPM Model of sigmoid ....\n",
      "calculate sift is running ...\n",
      "generate vocabulary dictionary is running ...\n",
      "init label set and label list is running ...\n",
      "build pyramid is running ...\n",
      "train classificator is running ...\n",
      "SPM Model Save Path: data\\spm_sigmoid_240_1.pkl\n",
      "Training SPM Model of hi ....\n",
      "calculate sift is running ...\n",
      "generate vocabulary dictionary is running ...\n",
      "init label set and label list is running ...\n",
      "build pyramid is running ...\n",
      "train classificator is running ...\n",
      "SPM Model Save Path: data\\spm_hi_240_1.pkl\n",
      "Training SPM Model of linear ....\n",
      "calculate sift is running ...\n",
      "generate vocabulary dictionary is running ...\n",
      "init label set and label list is running ...\n",
      "build pyramid is running ...\n",
      "train classificator is running ...\n",
      "SPM Model Save Path: data\\spm_linear_240_2.pkl\n",
      "Training SPM Model of poly ....\n",
      "calculate sift is running ...\n",
      "generate vocabulary dictionary is running ...\n",
      "init label set and label list is running ...\n",
      "build pyramid is running ...\n",
      "train classificator is running ...\n",
      "SPM Model Save Path: data\\spm_poly_240_2.pkl\n",
      "Training SPM Model of rbf ....\n",
      "calculate sift is running ...\n",
      "generate vocabulary dictionary is running ...\n",
      "init label set and label list is running ...\n",
      "build pyramid is running ...\n",
      "train classificator is running ...\n",
      "SPM Model Save Path: data\\spm_rbf_240_2.pkl\n",
      "Training SPM Model of sigmoid ....\n",
      "calculate sift is running ...\n",
      "generate vocabulary dictionary is running ...\n",
      "init label set and label list is running ...\n",
      "build pyramid is running ...\n",
      "train classificator is running ...\n",
      "SPM Model Save Path: data\\spm_sigmoid_240_2.pkl\n",
      "Training SPM Model of hi ....\n",
      "calculate sift is running ...\n",
      "generate vocabulary dictionary is running ...\n",
      "init label set and label list is running ...\n",
      "build pyramid is running ...\n",
      "train classificator is running ...\n",
      "SPM Model Save Path: data\\spm_hi_240_2.pkl\n",
      "Training SPM Model of linear ....\n",
      "calculate sift is running ...\n",
      "generate vocabulary dictionary is running ...\n",
      "init label set and label list is running ...\n",
      "build pyramid is running ...\n",
      "train classificator is running ...\n",
      "SPM Model Save Path: data\\spm_linear_240_3.pkl\n",
      "Training SPM Model of poly ....\n",
      "calculate sift is running ...\n",
      "generate vocabulary dictionary is running ...\n",
      "init label set and label list is running ...\n",
      "build pyramid is running ...\n",
      "train classificator is running ...\n",
      "SPM Model Save Path: data\\spm_poly_240_3.pkl\n",
      "Training SPM Model of rbf ....\n",
      "calculate sift is running ...\n",
      "generate vocabulary dictionary is running ...\n",
      "init label set and label list is running ...\n",
      "build pyramid is running ...\n",
      "train classificator is running ...\n",
      "SPM Model Save Path: data\\spm_rbf_240_3.pkl\n",
      "Training SPM Model of sigmoid ....\n",
      "calculate sift is running ...\n",
      "generate vocabulary dictionary is running ...\n",
      "init label set and label list is running ...\n",
      "build pyramid is running ...\n",
      "train classificator is running ...\n",
      "SPM Model Save Path: data\\spm_sigmoid_240_3.pkl\n",
      "Training SPM Model of hi ....\n",
      "calculate sift is running ...\n",
      "generate vocabulary dictionary is running ...\n",
      "init label set and label list is running ...\n",
      "build pyramid is running ...\n",
      "train classificator is running ...\n",
      "SPM Model Save Path: data\\spm_hi_240_3.pkl\n",
      "Training SPM Model of linear ....\n",
      "calculate sift is running ...\n",
      "generate vocabulary dictionary is running ...\n",
      "init label set and label list is running ...\n",
      "build pyramid is running ...\n",
      "train classificator is running ...\n",
      "SPM Model Save Path: data\\spm_linear_240_4.pkl\n",
      "Training SPM Model of poly ....\n",
      "calculate sift is running ...\n",
      "generate vocabulary dictionary is running ...\n",
      "init label set and label list is running ...\n",
      "build pyramid is running ...\n",
      "train classificator is running ...\n",
      "SPM Model Save Path: data\\spm_poly_240_4.pkl\n",
      "Training SPM Model of rbf ....\n",
      "calculate sift is running ...\n",
      "generate vocabulary dictionary is running ...\n",
      "init label set and label list is running ...\n",
      "build pyramid is running ...\n",
      "train classificator is running ...\n",
      "SPM Model Save Path: data\\spm_rbf_240_4.pkl\n",
      "Training SPM Model of sigmoid ....\n",
      "calculate sift is running ...\n",
      "generate vocabulary dictionary is running ...\n",
      "init label set and label list is running ...\n",
      "build pyramid is running ...\n",
      "train classificator is running ...\n",
      "SPM Model Save Path: data\\spm_sigmoid_240_4.pkl\n",
      "Training SPM Model of hi ....\n",
      "calculate sift is running ...\n",
      "generate vocabulary dictionary is running ...\n",
      "init label set and label list is running ...\n",
      "build pyramid is running ...\n",
      "train classificator is running ...\n",
      "SPM Model Save Path: data\\spm_hi_240_4.pkl\n"
     ]
    }
   ],
   "source": [
    "# 使用不同的核函数构造模型\n",
    "spm_models = {}\n",
    "svm_kernel = ('linear','poly','rbf','sigmoid','hi')\n",
    "plevel = (0,1,2,3,4)\n",
    "train_data_size = len(train_images)\n",
    "def run_and_get_time(kernel,train_data_size,level):\n",
    "    spm_models[level][kernel] = get_spm_model(kernel,filename,level)\n",
    "\n",
    "for level in plevel:\n",
    "    spm_models[level] = {}\n",
    "    for kernel in svm_kernel:\n",
    "        filename = filename_fmt % (kernel,train_data_size,level)\n",
    "        run_and_get_time(kernel,train_data_size,level)"
   ]
  },
  {
   "cell_type": "code",
   "execution_count": 8,
   "metadata": {
    "collapsed": true
   },
   "outputs": [],
   "source": [
    "# 导入测试数据\n",
    "test_data = tuple(io.get_images_name(test_data_path,recursive=True))\n",
    "test_images = io.load_image2ndarray(test_data)\n",
    "test_labels = io.get_image_label_in_filename(test_data)"
   ]
  },
  {
   "cell_type": "code",
   "execution_count": 9,
   "metadata": {
    "collapsed": false,
    "scrolled": false
   },
   "outputs": [
    {
     "name": "stdout",
     "output_type": "stream",
     "text": [
      "testing ...\n",
      "\n",
      "\n",
      "Level: 0\n",
      "Kernel:       linear\taccuracy:42.50%(51/120)\n",
      "Kernel:         poly\taccuracy:20.83%(25/120)\n",
      "Kernel:          rbf\taccuracy:37.50%(45/120)\n",
      "Kernel:      sigmoid\taccuracy:39.17%(47/120)\n",
      "Kernel:           hi\taccuracy:53.33%(64/120)\n",
      "\n",
      "\n",
      "Level: 1\n",
      "Kernel:       linear\taccuracy:41.67%(50/120)\n",
      "Kernel:         poly\taccuracy:16.67%(20/120)\n",
      "Kernel:          rbf\taccuracy:45.83%(55/120)\n",
      "Kernel:      sigmoid\taccuracy:51.67%(62/120)\n",
      "Kernel:           hi\taccuracy:66.67%(80/120)\n",
      "\n",
      "\n",
      "Level: 2\n",
      "Kernel:       linear\taccuracy:40.83%(49/120)\n",
      "Kernel:         poly\taccuracy:59.17%(71/120)\n",
      "Kernel:          rbf\taccuracy:46.67%(56/120)\n",
      "Kernel:      sigmoid\taccuracy:46.67%(56/120)\n",
      "Kernel:           hi\taccuracy:66.67%(80/120)\n",
      "\n",
      "\n",
      "Level: 3\n",
      "Kernel:       linear\taccuracy:50.00%(60/120)\n",
      "Kernel:         poly\taccuracy:51.67%(62/120)\n",
      "Kernel:          rbf\taccuracy:20.00%(24/120)\n",
      "Kernel:      sigmoid\taccuracy:40.83%(49/120)\n",
      "Kernel:           hi\taccuracy:65.00%(78/120)\n",
      "\n",
      "\n",
      "Level: 4\n",
      "Kernel:       linear\taccuracy:45.83%(55/120)\n",
      "Kernel:         poly\taccuracy:55.83%(67/120)\n",
      "Kernel:          rbf\taccuracy:16.67%(20/120)\n",
      "Kernel:      sigmoid\taccuracy:45.83%(55/120)\n",
      "Kernel:           hi\taccuracy:67.50%(81/120)\n"
     ]
    }
   ],
   "source": [
    "# 测试\n",
    "print(\"testing ...\")\n",
    "for level,serial in spm_models.items():\n",
    "    print('\\n')\n",
    "    print('Level:',level)\n",
    "    for kernel,model in serial.items():\n",
    "        classification(model,test_data,test_images,test_labels,level,show_all=False)"
   ]
  }
 ],
 "metadata": {
  "kernelspec": {
   "display_name": "Python 3",
   "language": "python",
   "name": "python3"
  },
  "language_info": {
   "codemirror_mode": {
    "name": "ipython",
    "version": 3
   },
   "file_extension": ".py",
   "mimetype": "text/x-python",
   "name": "python",
   "nbconvert_exporter": "python",
   "pygments_lexer": "ipython3",
   "version": "3.6.0"
  }
 },
 "nbformat": 4,
 "nbformat_minor": 0
}
